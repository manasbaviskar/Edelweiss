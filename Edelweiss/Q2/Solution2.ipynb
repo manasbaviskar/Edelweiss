{
 "cells": [
  {
   "cell_type": "markdown",
   "id": "e3788468-3c91-4db9-b59d-a3dd408dbf9d",
   "metadata": {
    "jp-MarkdownHeadingCollapsed": true,
    "tags": []
   },
   "source": [
    "### Question 2 :"
   ]
  },
  {
   "cell_type": "markdown",
   "id": "87e0d85e-8a61-41d5-b4cb-d8088761bf9f",
   "metadata": {
    "tags": []
   },
   "source": [
    "### Importing relevant libraries"
   ]
  },
  {
   "cell_type": "code",
   "execution_count": 1,
   "id": "d0acc453-bc71-420f-ab42-64f529f80013",
   "metadata": {},
   "outputs": [
    {
     "name": "stderr",
     "output_type": "stream",
     "text": [
      "C:\\Users\\MANAS\\anaconda3\\lib\\site-packages\\numpy\\_distributor_init.py:30: UserWarning: loaded more than 1 DLL from .libs:\n",
      "C:\\Users\\MANAS\\anaconda3\\lib\\site-packages\\numpy\\.libs\\libopenblas.EL2C6PLE4ZYW3ECEVIV3OXXGRN2NRFM2.gfortran-win_amd64.dll\n",
      "C:\\Users\\MANAS\\anaconda3\\lib\\site-packages\\numpy\\.libs\\libopenblas.XWYDX2IKJW2NMTWSFYNGFUWKQU3LYTCZ.gfortran-win_amd64.dll\n",
      "  warnings.warn(\"loaded more than 1 DLL from .libs:\"\n"
     ]
    }
   ],
   "source": [
    "import io\n",
    "from io import BytesIO\n",
    "import requests\n",
    "import json\n",
    "import pandas as pd\n",
    "import numpy as np\n",
    "import datetime \n",
    "from datetime import date\n",
    "import yfinance as yf\n",
    "import warnings\n",
    "\n",
    "%matplotlib inline\n",
    "warnings.filterwarnings('ignore')\n"
   ]
  },
  {
   "cell_type": "markdown",
   "id": "5a70f018-90c7-49bd-9bf0-a4ac8d6ca028",
   "metadata": {},
   "source": [
    "### Getting the list of NSE500 symbols"
   ]
  },
  {
   "cell_type": "code",
   "execution_count": 2,
   "id": "94a0b67e-851d-4756-a3e7-695a9f3640e3",
   "metadata": {},
   "outputs": [],
   "source": [
    "def get_NSE_symbols(url):\n",
    "    \n",
    "    symbollist = []\n",
    "    while True:\n",
    "        try:\n",
    "            r = requests.get(url)\n",
    "        except requests.ConnectionError:\n",
    "            print('No connection, retrying')\n",
    "        break\n",
    "    print(\"--Connection Established Successfully--\") \n",
    "    \n",
    "    with open('N500.csv', \"wb\") as outfile:\n",
    "        outfile.write(BytesIO(r.content).getbuffer())\n",
    "        \n",
    "    print(\"--Extracted NSE500 Symbols Successfully--\") \n",
    "    data = pd.read_csv('N500.csv')\n",
    "    for i in data.Symbol:\n",
    "        symbollist.append(i)\n",
    "    f = open(\"N500.csv\",'w')\n",
    "    f.close()\n",
    "    return symbollist"
   ]
  },
  {
   "cell_type": "markdown",
   "id": "094ee65c-9383-4ec9-9f15-560342d10199",
   "metadata": {},
   "source": [
    "### Arguments"
   ]
  },
  {
   "cell_type": "code",
   "execution_count": 3,
   "id": "a568f958-64ec-4f61-9b07-56427b688473",
   "metadata": {},
   "outputs": [
    {
     "name": "stdout",
     "output_type": "stream",
     "text": [
      "--Connection Established Successfully--\n",
      "--Extracted NSE500 Symbols Successfully--\n"
     ]
    }
   ],
   "source": [
    "url = 'https://www1.nseindia.com/content/indices/ind_nifty500list.csv'\n",
    "symbol = get_NSE_symbols(url)\n",
    "\n",
    "ticker= [ i + \".NS\" for i in symbol]\n",
    "start1 = date(2020, 1, 1)\n",
    "end1 = date(2022, 1, 3)"
   ]
  },
  {
   "cell_type": "markdown",
   "id": "3a19fb57-9bef-4f5b-9ebf-cbcad63945be",
   "metadata": {},
   "source": [
    "### Storing data in a .xlsx file"
   ]
  },
  {
   "cell_type": "code",
   "execution_count": 6,
   "id": "8fb74018-9f0d-44d1-abc1-4abed98d338a",
   "metadata": {},
   "outputs": [
    {
     "name": "stdout",
     "output_type": "stream",
     "text": [
      "[*********************100%***********************]  1 of 1 completed\n",
      "--Extracted data for 3MINDIA.NS--\n",
      "[*********************100%***********************]  1 of 1 completed\n",
      "--Extracted data for ABB.NS--\n",
      "[*********************100%***********************]  1 of 1 completed\n",
      "--Extracted data for ACC.NS--\n",
      "[*********************100%***********************]  1 of 1 completed\n",
      "--Extracted data for AIAENG.NS--\n",
      "[*********************100%***********************]  1 of 1 completed\n",
      "--Extracted data for APLAPOLLO.NS--\n"
     ]
    }
   ],
   "source": [
    "# Extracting for only the first 5 symbols for testing purposes\n",
    "for sym in ticker[:5]:\n",
    "    data = yf.download(sym,start=start1,end=end1)\n",
    "    data.to_excel(f'C:\\\\Users\\\\MANAS\\\\Edelweiss\\\\Q2\\\\{sym}.xlsx')\n",
    "    print(f\"--Extracted data for {sym}--\")"
   ]
  },
  {
   "cell_type": "code",
   "execution_count": null,
   "id": "c7290487-6266-4df7-a578-9811dbf70bb6",
   "metadata": {},
   "outputs": [],
   "source": []
  }
 ],
 "metadata": {
  "kernelspec": {
   "display_name": "Python 3 (ipykernel)",
   "language": "python",
   "name": "python3"
  },
  "language_info": {
   "codemirror_mode": {
    "name": "ipython",
    "version": 3
   },
   "file_extension": ".py",
   "mimetype": "text/x-python",
   "name": "python",
   "nbconvert_exporter": "python",
   "pygments_lexer": "ipython3",
   "version": "3.8.8"
  }
 },
 "nbformat": 4,
 "nbformat_minor": 5
}
